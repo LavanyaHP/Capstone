{
 "cells": [
  {
   "cell_type": "markdown",
   "metadata": {
    "colab_type": "text",
    "id": "pp68FAQf9aMN"
   },
   "source": [
    "# Great Learning - Capstone Project - NLP | Automated Ticket Assignment\n",
    "*  **Submitted By**: Gaurav, Karishma, Lavanya, Pallavi and Swati \n",
    "* **Status** : In-Progress (EDA, Feature Engineering & Selection)\n",
    "* **Date of Submission** : TBD\n",
    "* **Dataset** : https://drive.google.com/drive/u/0/folders/1xOCdNI2R5hiodskIJbj-QySMQs6ccehL"
   ]
  },
  {
   "cell_type": "markdown",
   "metadata": {
    "colab_type": "text",
    "id": "EVHPD9ChfPUM"
   },
   "source": [
    "# Problem Statement\n",
    "One of the key activities of any IT function is to ensure there is no impact to the Business operations through Incident Management process. An incident is an unplanned interruption to an IT service or reduction in the quality of an IT service that affects the Users and the Business.\n",
    "\n",
    "The main goal of Incident Management process is to provide a quick fix / workarounds or solutions that resolves the interruption and restores the service to its full capacity to ensure no business impact.\n",
    "\n",
    "These incidents are created by various stakeholders (Business Users, IT Users and Monitoring Tools) within IT Service Management Tool and are assigned to Service Desk teams (L1 / L2 teams). \n",
    "\n",
    "**The goal of this project is to build a classifier that can classify the incidents by analysing text**.\n",
    "\n",
    "\n",
    "# Solution\n",
    "The solution is to build a classification model that can analyse the text and classify to appropriate Service Desk team.\n",
    "\n",
    "# Approach\n",
    "\n",
    "\n",
    "*   Analyse and Understand the structure of data\n",
    "*   Visualize data\n",
    "*   Text preprocessing\n",
    "*   Create word vocabulary and Tokens\n",
    "*   Build a Classification model\n",
    "*   Train the model\n",
    "*   Test the Model "
   ]
  },
  {
   "cell_type": "markdown",
   "metadata": {
    "colab_type": "text",
    "id": "v9kv9tyJ77eF"
   },
   "source": [
    "## Get Required Files from Drive"
   ]
  },
  {
   "cell_type": "code",
   "execution_count": 1,
   "metadata": {
    "colab": {
     "base_uri": "https://localhost:8080/",
     "height": 122
    },
    "colab_type": "code",
    "executionInfo": {
     "elapsed": 49215,
     "status": "ok",
     "timestamp": 1584248025290,
     "user": {
      "displayName": "Swati Tyagi",
      "photoUrl": "",
      "userId": "03261239610211591423"
     },
     "user_tz": -330
    },
    "id": "D0O_n6OIEVyL",
    "outputId": "a18f861b-dbcd-45d7-c58a-c8272d1db068"
   },
   "outputs": [
    {
     "name": "stdout",
     "output_type": "stream",
     "text": [
      "Go to this URL in a browser: https://accounts.google.com/o/oauth2/auth?client_id=947318989803-6bn6qk8qdgf4n4g3pfee6491hc0brc4i.apps.googleusercontent.com&redirect_uri=urn%3aietf%3awg%3aoauth%3a2.0%3aoob&response_type=code&scope=email%20https%3a%2f%2fwww.googleapis.com%2fauth%2fdocs.test%20https%3a%2f%2fwww.googleapis.com%2fauth%2fdrive%20https%3a%2f%2fwww.googleapis.com%2fauth%2fdrive.photos.readonly%20https%3a%2f%2fwww.googleapis.com%2fauth%2fpeopleapi.readonly\n",
      "\n",
      "Enter your authorization code:\n",
      "··········\n",
      "Mounted at /content/drive\n"
     ]
    }
   ],
   "source": [
    "from google.colab import drive\n",
    "drive.mount('/content/drive')"
   ]
  },
  {
   "cell_type": "code",
   "execution_count": 3,
   "metadata": {
    "colab": {
     "base_uri": "https://localhost:8080/",
     "height": 34
    },
    "colab_type": "code",
    "executionInfo": {
     "elapsed": 1243,
     "status": "ok",
     "timestamp": 1584248156005,
     "user": {
      "displayName": "Swati Tyagi",
      "photoUrl": "",
      "userId": "03261239610211591423"
     },
     "user_tz": -330
    },
    "id": "0mgRpOvFMjKR",
    "outputId": "293db0a0-66b9-4fc6-b55a-5db16a12ed00"
   },
   "outputs": [
    {
     "data": {
      "text/plain": [
       "'/content/drive/My Drive/Capstone Project'"
      ]
     },
     "execution_count": 3,
     "metadata": {
      "tags": []
     },
     "output_type": "execute_result"
    }
   ],
   "source": [
    "# changing present working directory\n",
    "import os\n",
    "#os.chdir(\"/content/drive/My Drive/Colab_Notebooks/NLP\")\n",
    "os.chdir(\"/content/drive/My Drive/Capstone Project/\")\n",
    "os.getcwd()"
   ]
  },
  {
   "cell_type": "code",
   "execution_count": 0,
   "metadata": {
    "colab": {},
    "colab_type": "code",
    "id": "I24x8-gwTfq4"
   },
   "outputs": [],
   "source": [
    "import numpy as np\n",
    "import pandas as pd\n",
    "import matplotlib.pyplot as plt\n",
    "import plotly.express as px\n",
    "%matplotlib inline\n",
    "import seaborn as sns\n",
    "sns.set(style=\"ticks\", color_codes=True)\n",
    "sns.set_palette(\"Spectral\")\n",
    "\n",
    "import re\n",
    "from pprint import pprint\n",
    "from sklearn import preprocessing \n",
    "import string \n",
    "\n",
    "import warnings\n",
    "warnings.filterwarnings(action='ignore')"
   ]
  },
  {
   "cell_type": "code",
   "execution_count": 0,
   "metadata": {
    "colab": {
     "base_uri": "https://localhost:8080/",
     "height": 187
    },
    "colab_type": "code",
    "executionInfo": {
     "elapsed": 3799,
     "status": "ok",
     "timestamp": 1584221012859,
     "user": {
      "displayName": "Gaurav Walia",
      "photoUrl": "",
      "userId": "01700986432954323149"
     },
     "user_tz": -330
    },
    "id": "4USKhCiETnxY",
    "outputId": "4e0118e0-fb08-4985-84d9-f22eb0f3a125"
   },
   "outputs": [
    {
     "name": "stdout",
     "output_type": "stream",
     "text": [
      "[nltk_data] Downloading package stopwords to /root/nltk_data...\n",
      "[nltk_data]   Package stopwords is already up-to-date!\n",
      "[nltk_data] Downloading package wordnet to /root/nltk_data...\n",
      "[nltk_data]   Package wordnet is already up-to-date!\n",
      "[nltk_data] Downloading package averaged_perceptron_tagger to\n",
      "[nltk_data]     /root/nltk_data...\n",
      "[nltk_data]   Package averaged_perceptron_tagger is already up-to-\n",
      "[nltk_data]       date!\n",
      "[nltk_data] Downloading package words to /root/nltk_data...\n",
      "[nltk_data]   Package words is already up-to-date!\n"
     ]
    }
   ],
   "source": [
    "# NLTK Stop words\n",
    "import nltk\n",
    "nltk.download('stopwords')\n",
    "nltk.download('wordnet')\n",
    "nltk.download('averaged_perceptron_tagger')\n",
    "nltk.download('words')\n",
    "from nltk.corpus import words\n",
    "from nltk.corpus import stopwords\n",
    "stop_words = stopwords.words('english')\n",
    "stop_words.extend(['received from', 'hi', 'hello','i','am','cc','sir','good morning','gentles',])\n",
    "from nltk.tokenize import word_tokenize \n",
    "from nltk.stem import WordNetLemmatizer\n",
    "from gensim.utils import tokenize"
   ]
  },
  {
   "cell_type": "markdown",
   "metadata": {
    "colab_type": "text",
    "id": "WXYwajPeQbRq"
   },
   "source": [
    "#**## Reading and Exploring Data**"
   ]
  },
  {
   "cell_type": "markdown",
   "metadata": {
    "colab_type": "text",
    "id": "vAk6BRUh8CqL"
   },
   "source": [
    "## Reading Data \"Input Data Synthetic (created but not used in our project).xlsx\". Exploring the data and getting some insights about the data."
   ]
  },
  {
   "cell_type": "code",
   "execution_count": 0,
   "metadata": {
    "colab": {
     "base_uri": "https://localhost:8080/",
     "height": 204
    },
    "colab_type": "code",
    "executionInfo": {
     "elapsed": 3798,
     "status": "ok",
     "timestamp": 1584221012890,
     "user": {
      "displayName": "Gaurav Walia",
      "photoUrl": "",
      "userId": "01700986432954323149"
     },
     "user_tz": -330
    },
    "id": "-gE_xtSyeJeY",
    "outputId": "d131e548-bcdb-4dc6-d095-0e0e7db8390c"
   },
   "outputs": [
    {
     "data": {
      "text/html": [
       "<div>\n",
       "<style scoped>\n",
       "    .dataframe tbody tr th:only-of-type {\n",
       "        vertical-align: middle;\n",
       "    }\n",
       "\n",
       "    .dataframe tbody tr th {\n",
       "        vertical-align: top;\n",
       "    }\n",
       "\n",
       "    .dataframe thead th {\n",
       "        text-align: right;\n",
       "    }\n",
       "</style>\n",
       "<table border=\"1\" class=\"dataframe\">\n",
       "  <thead>\n",
       "    <tr style=\"text-align: right;\">\n",
       "      <th></th>\n",
       "      <th>Short_description</th>\n",
       "      <th>Description</th>\n",
       "      <th>Caller</th>\n",
       "      <th>Group</th>\n",
       "    </tr>\n",
       "  </thead>\n",
       "  <tbody>\n",
       "    <tr>\n",
       "      <th>0</th>\n",
       "      <td>login issue</td>\n",
       "      <td>-verified user details.(employee# &amp; manager na...</td>\n",
       "      <td>spxjnwir pjlcoqds</td>\n",
       "      <td>GRP_0</td>\n",
       "    </tr>\n",
       "    <tr>\n",
       "      <th>1</th>\n",
       "      <td>outlook</td>\n",
       "      <td>\\r\\n\\r\\nreceived from: hmjdrvpb.komuaywn@gmail...</td>\n",
       "      <td>hmjdrvpb komuaywn</td>\n",
       "      <td>GRP_0</td>\n",
       "    </tr>\n",
       "    <tr>\n",
       "      <th>2</th>\n",
       "      <td>cant log in to vpn</td>\n",
       "      <td>\\r\\n\\r\\nreceived from: eylqgodm.ybqkwiam@gmail...</td>\n",
       "      <td>eylqgodm ybqkwiam</td>\n",
       "      <td>GRP_0</td>\n",
       "    </tr>\n",
       "    <tr>\n",
       "      <th>3</th>\n",
       "      <td>unable to access hr_tool page</td>\n",
       "      <td>unable to access hr_tool page</td>\n",
       "      <td>xbkucsvz gcpydteq</td>\n",
       "      <td>GRP_0</td>\n",
       "    </tr>\n",
       "    <tr>\n",
       "      <th>4</th>\n",
       "      <td>skype error</td>\n",
       "      <td>skype error</td>\n",
       "      <td>owlgqjme qhcozdfx</td>\n",
       "      <td>GRP_0</td>\n",
       "    </tr>\n",
       "  </tbody>\n",
       "</table>\n",
       "</div>"
      ],
      "text/plain": [
       "               Short_description  ...  Group\n",
       "0                    login issue  ...  GRP_0\n",
       "1                        outlook  ...  GRP_0\n",
       "2             cant log in to vpn  ...  GRP_0\n",
       "3  unable to access hr_tool page  ...  GRP_0\n",
       "4                   skype error   ...  GRP_0\n",
       "\n",
       "[5 rows x 4 columns]"
      ]
     },
     "execution_count": 5,
     "metadata": {
      "tags": []
     },
     "output_type": "execute_result"
    }
   ],
   "source": [
    "# Read Dataset\n",
    "file_name = \"Ticket_Data.xlsx\" \n",
    "df = pd.read_excel(file_name,encoding='cp1252')\n",
    "df = df.rename(columns = {\"Short description\": \"Short_description\",\n",
    "                          \"Assignment group\": \"Group\"})\n",
    "df.head()"
   ]
  },
  {
   "cell_type": "code",
   "execution_count": 0,
   "metadata": {
    "colab": {
     "base_uri": "https://localhost:8080/",
     "height": 34
    },
    "colab_type": "code",
    "executionInfo": {
     "elapsed": 3747,
     "status": "ok",
     "timestamp": 1584221012892,
     "user": {
      "displayName": "Gaurav Walia",
      "photoUrl": "",
      "userId": "01700986432954323149"
     },
     "user_tz": -330
    },
    "id": "YfKfF24rtC6G",
    "outputId": "43286f35-b025-4315-8a6d-90b8c00bf51a"
   },
   "outputs": [
    {
     "name": "stdout",
     "output_type": "stream",
     "text": [
      "Data shape: (8500, 4)\n"
     ]
    }
   ],
   "source": [
    "# Checking Shape of the data\n",
    "print(\"Data shape:\", df.shape)"
   ]
  },
  {
   "cell_type": "code",
   "execution_count": 0,
   "metadata": {
    "colab": {
     "base_uri": "https://localhost:8080/",
     "height": 173
    },
    "colab_type": "code",
    "executionInfo": {
     "elapsed": 4355,
     "status": "ok",
     "timestamp": 1584221013511,
     "user": {
      "displayName": "Gaurav Walia",
      "photoUrl": "",
      "userId": "01700986432954323149"
     },
     "user_tz": -330
    },
    "id": "Lj53jTSttSoC",
    "outputId": "bb2d80fe-334d-4bcb-f0da-5549effa479a"
   },
   "outputs": [
    {
     "data": {
      "text/html": [
       "<div>\n",
       "<style scoped>\n",
       "    .dataframe tbody tr th:only-of-type {\n",
       "        vertical-align: middle;\n",
       "    }\n",
       "\n",
       "    .dataframe tbody tr th {\n",
       "        vertical-align: top;\n",
       "    }\n",
       "\n",
       "    .dataframe thead th {\n",
       "        text-align: right;\n",
       "    }\n",
       "</style>\n",
       "<table border=\"1\" class=\"dataframe\">\n",
       "  <thead>\n",
       "    <tr style=\"text-align: right;\">\n",
       "      <th></th>\n",
       "      <th>Short_description</th>\n",
       "      <th>Description</th>\n",
       "      <th>Caller</th>\n",
       "      <th>Group</th>\n",
       "    </tr>\n",
       "  </thead>\n",
       "  <tbody>\n",
       "    <tr>\n",
       "      <th>count</th>\n",
       "      <td>8492</td>\n",
       "      <td>8499</td>\n",
       "      <td>8500</td>\n",
       "      <td>8500</td>\n",
       "    </tr>\n",
       "    <tr>\n",
       "      <th>unique</th>\n",
       "      <td>7481</td>\n",
       "      <td>7817</td>\n",
       "      <td>2950</td>\n",
       "      <td>74</td>\n",
       "    </tr>\n",
       "    <tr>\n",
       "      <th>top</th>\n",
       "      <td>password reset</td>\n",
       "      <td>the</td>\n",
       "      <td>bpctwhsn kzqsbmtp</td>\n",
       "      <td>GRP_0</td>\n",
       "    </tr>\n",
       "    <tr>\n",
       "      <th>freq</th>\n",
       "      <td>38</td>\n",
       "      <td>56</td>\n",
       "      <td>810</td>\n",
       "      <td>3976</td>\n",
       "    </tr>\n",
       "  </tbody>\n",
       "</table>\n",
       "</div>"
      ],
      "text/plain": [
       "       Short_description Description             Caller  Group\n",
       "count               8492        8499               8500   8500\n",
       "unique              7481        7817               2950     74\n",
       "top       password reset         the  bpctwhsn kzqsbmtp  GRP_0\n",
       "freq                  38          56                810   3976"
      ]
     },
     "execution_count": 7,
     "metadata": {
      "tags": []
     },
     "output_type": "execute_result"
    }
   ],
   "source": [
    "df.describe()"
   ]
  },
  {
   "cell_type": "code",
   "execution_count": 0,
   "metadata": {
    "colab": {
     "base_uri": "https://localhost:8080/",
     "height": 450
    },
    "colab_type": "code",
    "executionInfo": {
     "elapsed": 1501,
     "status": "ok",
     "timestamp": 1584221146549,
     "user": {
      "displayName": "Gaurav Walia",
      "photoUrl": "",
      "userId": "01700986432954323149"
     },
     "user_tz": -330
    },
    "id": "9Q01aq2jto2c",
    "outputId": "f06286b6-1b0d-4d0a-8d39-98729b29cf31"
   },
   "outputs": [
    {
     "data": {
      "text/html": [
       "<div>\n",
       "<style scoped>\n",
       "    .dataframe tbody tr th:only-of-type {\n",
       "        vertical-align: middle;\n",
       "    }\n",
       "\n",
       "    .dataframe tbody tr th {\n",
       "        vertical-align: top;\n",
       "    }\n",
       "\n",
       "    .dataframe thead th {\n",
       "        text-align: right;\n",
       "    }\n",
       "</style>\n",
       "<table border=\"1\" class=\"dataframe\">\n",
       "  <thead>\n",
       "    <tr style=\"text-align: right;\">\n",
       "      <th></th>\n",
       "      <th>Group</th>\n",
       "    </tr>\n",
       "    <tr>\n",
       "      <th>Group</th>\n",
       "      <th></th>\n",
       "    </tr>\n",
       "  </thead>\n",
       "  <tbody>\n",
       "    <tr>\n",
       "      <th>GRP_0</th>\n",
       "      <td>3976</td>\n",
       "    </tr>\n",
       "    <tr>\n",
       "      <th>GRP_1</th>\n",
       "      <td>31</td>\n",
       "    </tr>\n",
       "    <tr>\n",
       "      <th>GRP_10</th>\n",
       "      <td>140</td>\n",
       "    </tr>\n",
       "    <tr>\n",
       "      <th>GRP_11</th>\n",
       "      <td>30</td>\n",
       "    </tr>\n",
       "    <tr>\n",
       "      <th>GRP_12</th>\n",
       "      <td>257</td>\n",
       "    </tr>\n",
       "    <tr>\n",
       "      <th>...</th>\n",
       "      <td>...</td>\n",
       "    </tr>\n",
       "    <tr>\n",
       "      <th>GRP_71</th>\n",
       "      <td>2</td>\n",
       "    </tr>\n",
       "    <tr>\n",
       "      <th>GRP_72</th>\n",
       "      <td>2</td>\n",
       "    </tr>\n",
       "    <tr>\n",
       "      <th>GRP_73</th>\n",
       "      <td>1</td>\n",
       "    </tr>\n",
       "    <tr>\n",
       "      <th>GRP_8</th>\n",
       "      <td>661</td>\n",
       "    </tr>\n",
       "    <tr>\n",
       "      <th>GRP_9</th>\n",
       "      <td>252</td>\n",
       "    </tr>\n",
       "  </tbody>\n",
       "</table>\n",
       "<p>74 rows × 1 columns</p>\n",
       "</div>"
      ],
      "text/plain": [
       "        Group\n",
       "Group        \n",
       "GRP_0    3976\n",
       "GRP_1      31\n",
       "GRP_10    140\n",
       "GRP_11     30\n",
       "GRP_12    257\n",
       "...       ...\n",
       "GRP_71      2\n",
       "GRP_72      2\n",
       "GRP_73      1\n",
       "GRP_8     661\n",
       "GRP_9     252\n",
       "\n",
       "[74 rows x 1 columns]"
      ]
     },
     "execution_count": 9,
     "metadata": {
      "tags": []
     },
     "output_type": "execute_result"
    }
   ],
   "source": [
    "#checking the number of Groups in the dataset\n",
    "df.groupby('Group').agg({'Group': 'count'})"
   ]
  },
  {
   "cell_type": "markdown",
   "metadata": {},
   "source": [
    "<ul>\n",
    "<li>The dataset has total 8500 records</li>\n",
    "<li>There are missing values in short description and and Description columns.</li>\n",
    "<li>The maximum times the short description has been repeated is 38</li>\n",
    "<li>The maximum times the Description has been repeated in 56</li>\n",
    "<li>The maximum times the caller has repeated is 810</li>\n",
    "<li>The maximum times a group is assigned ticket is 3976</li></ul>"
   ]
  },
  {
   "cell_type": "code",
   "execution_count": 0,
   "metadata": {
    "colab": {
     "base_uri": "https://localhost:8080/",
     "height": 297
    },
    "colab_type": "code",
    "executionInfo": {
     "elapsed": 859,
     "status": "ok",
     "timestamp": 1584221162736,
     "user": {
      "displayName": "Gaurav Walia",
      "photoUrl": "",
      "userId": "01700986432954323149"
     },
     "user_tz": -330
    },
    "id": "_hGSfU0CuJ5s",
    "outputId": "6724a9e3-7cf8-4ab1-b0d7-cc15d4921d3b"
   },
   "outputs": [
    {
     "data": {
      "text/html": [
       "<div>\n",
       "<style scoped>\n",
       "    .dataframe tbody tr th:only-of-type {\n",
       "        vertical-align: middle;\n",
       "    }\n",
       "\n",
       "    .dataframe tbody tr th {\n",
       "        vertical-align: top;\n",
       "    }\n",
       "\n",
       "    .dataframe thead th {\n",
       "        text-align: right;\n",
       "    }\n",
       "</style>\n",
       "<table border=\"1\" class=\"dataframe\">\n",
       "  <thead>\n",
       "    <tr style=\"text-align: right;\">\n",
       "      <th></th>\n",
       "      <th>Short_description</th>\n",
       "      <th>Description</th>\n",
       "      <th>Caller</th>\n",
       "      <th>Group</th>\n",
       "    </tr>\n",
       "  </thead>\n",
       "  <tbody>\n",
       "    <tr>\n",
       "      <th>2604</th>\n",
       "      <td>NaN</td>\n",
       "      <td>\\r\\n\\r\\nreceived from: ohdrnswl.rezuibdt@gmail...</td>\n",
       "      <td>ohdrnswl rezuibdt</td>\n",
       "      <td>GRP_34</td>\n",
       "    </tr>\n",
       "    <tr>\n",
       "      <th>3383</th>\n",
       "      <td>NaN</td>\n",
       "      <td>\\r\\n-connected to the user system using teamvi...</td>\n",
       "      <td>qftpazns fxpnytmk</td>\n",
       "      <td>GRP_0</td>\n",
       "    </tr>\n",
       "    <tr>\n",
       "      <th>3906</th>\n",
       "      <td>NaN</td>\n",
       "      <td>-user unable  tologin to vpn.\\r\\n-connected to...</td>\n",
       "      <td>awpcmsey ctdiuqwe</td>\n",
       "      <td>GRP_0</td>\n",
       "    </tr>\n",
       "    <tr>\n",
       "      <th>3910</th>\n",
       "      <td>NaN</td>\n",
       "      <td>-user unable  tologin to vpn.\\r\\n-connected to...</td>\n",
       "      <td>rhwsmefo tvphyura</td>\n",
       "      <td>GRP_0</td>\n",
       "    </tr>\n",
       "    <tr>\n",
       "      <th>3915</th>\n",
       "      <td>NaN</td>\n",
       "      <td>-user unable  tologin to vpn.\\r\\n-connected to...</td>\n",
       "      <td>hxripljo efzounig</td>\n",
       "      <td>GRP_0</td>\n",
       "    </tr>\n",
       "    <tr>\n",
       "      <th>3921</th>\n",
       "      <td>NaN</td>\n",
       "      <td>-user unable  tologin to vpn.\\r\\n-connected to...</td>\n",
       "      <td>cziadygo veiosxby</td>\n",
       "      <td>GRP_0</td>\n",
       "    </tr>\n",
       "    <tr>\n",
       "      <th>3924</th>\n",
       "      <td>NaN</td>\n",
       "      <td>name:wvqgbdhm fwchqjor\\nlanguage:\\nbrowser:mic...</td>\n",
       "      <td>wvqgbdhm fwchqjor</td>\n",
       "      <td>GRP_0</td>\n",
       "    </tr>\n",
       "    <tr>\n",
       "      <th>4341</th>\n",
       "      <td>NaN</td>\n",
       "      <td>\\r\\n\\r\\nreceived from: eqmuniov.ehxkcbgj@gmail...</td>\n",
       "      <td>eqmuniov ehxkcbgj</td>\n",
       "      <td>GRP_0</td>\n",
       "    </tr>\n",
       "  </tbody>\n",
       "</table>\n",
       "</div>"
      ],
      "text/plain": [
       "     Short_description  ...   Group\n",
       "2604               NaN  ...  GRP_34\n",
       "3383               NaN  ...   GRP_0\n",
       "3906               NaN  ...   GRP_0\n",
       "3910               NaN  ...   GRP_0\n",
       "3915               NaN  ...   GRP_0\n",
       "3921               NaN  ...   GRP_0\n",
       "3924               NaN  ...   GRP_0\n",
       "4341               NaN  ...   GRP_0\n",
       "\n",
       "[8 rows x 4 columns]"
      ]
     },
     "execution_count": 11,
     "metadata": {
      "tags": []
     },
     "output_type": "execute_result"
    }
   ],
   "source": [
    "# Checking null values in Short description column\n",
    "bool_series = pd.isnull(df[\"Short_description\"])  \n",
    " \n",
    "# displaying data where Short description = NaN  \n",
    "df[bool_series]  "
   ]
  },
  {
   "cell_type": "code",
   "execution_count": 0,
   "metadata": {
    "colab": {
     "base_uri": "https://localhost:8080/",
     "height": 80
    },
    "colab_type": "code",
    "executionInfo": {
     "elapsed": 847,
     "status": "ok",
     "timestamp": 1584221166388,
     "user": {
      "displayName": "Gaurav Walia",
      "photoUrl": "",
      "userId": "01700986432954323149"
     },
     "user_tz": -330
    },
    "id": "oVP5UVw0umt6",
    "outputId": "4e8cf627-e0b1-46d5-b6f5-321f443d1576"
   },
   "outputs": [
    {
     "data": {
      "text/html": [
       "<div>\n",
       "<style scoped>\n",
       "    .dataframe tbody tr th:only-of-type {\n",
       "        vertical-align: middle;\n",
       "    }\n",
       "\n",
       "    .dataframe tbody tr th {\n",
       "        vertical-align: top;\n",
       "    }\n",
       "\n",
       "    .dataframe thead th {\n",
       "        text-align: right;\n",
       "    }\n",
       "</style>\n",
       "<table border=\"1\" class=\"dataframe\">\n",
       "  <thead>\n",
       "    <tr style=\"text-align: right;\">\n",
       "      <th></th>\n",
       "      <th>Short_description</th>\n",
       "      <th>Description</th>\n",
       "      <th>Caller</th>\n",
       "      <th>Group</th>\n",
       "    </tr>\n",
       "  </thead>\n",
       "  <tbody>\n",
       "    <tr>\n",
       "      <th>4395</th>\n",
       "      <td>i am locked out of skype</td>\n",
       "      <td>NaN</td>\n",
       "      <td>viyglzfo ajtfzpkb</td>\n",
       "      <td>GRP_0</td>\n",
       "    </tr>\n",
       "  </tbody>\n",
       "</table>\n",
       "</div>"
      ],
      "text/plain": [
       "             Short_description Description             Caller  Group\n",
       "4395  i am locked out of skype         NaN  viyglzfo ajtfzpkb  GRP_0"
      ]
     },
     "execution_count": 12,
     "metadata": {
      "tags": []
     },
     "output_type": "execute_result"
    }
   ],
   "source": [
    "# Checking null values in Description column\n",
    "bool_series = pd.isnull(df[\"Description\"])  \n",
    " \n",
    "# displaying data where Description = NaN  \n",
    "df[bool_series] "
   ]
  },
  {
   "cell_type": "markdown",
   "metadata": {
    "colab_type": "text",
    "id": "1iDCXqrCJbHJ"
   },
   "source": [
    "## Visualising Data"
   ]
  },
  {
   "cell_type": "code",
   "execution_count": 0,
   "metadata": {
    "colab": {
     "base_uri": "https://localhost:8080/",
     "height": 555
    },
    "colab_type": "code",
    "executionInfo": {
     "elapsed": 2155,
     "status": "ok",
     "timestamp": 1584221177263,
     "user": {
      "displayName": "Gaurav Walia",
      "photoUrl": "",
      "userId": "01700986432954323149"
     },
     "user_tz": -330
    },
    "id": "b8GRYGRCJZxa",
    "outputId": "352f2ada-1bba-4db0-d5aa-6cff6bfdd93f"
   },
   "outputs": [
    {
     "data": {
      "text/plain": [
       "<matplotlib.axes._subplots.AxesSubplot at 0x7f8123013438>"
      ]
     },
     "execution_count": 13,
     "metadata": {
      "tags": []
     },
     "output_type": "execute_result"
    },
    {
     "data": {
      "image/png": "[encoded data removed]",
      "text/plain": [
       "<Figure size 1440x576 with 1 Axes>"
      ]
     },
     "metadata": {
      "tags": []
     },
     "output_type": "display_data"
    }
   ],
   "source": [
    "import matplotlib.pyplot as plt\n",
    "df['Group'].value_counts().plot(kind= 'bar', figsize = (20, 8))"
   ]
  },
  {
   "cell_type": "code",
   "execution_count": 0,
   "metadata": {
    "colab": {
     "base_uri": "https://localhost:8080/",
     "height": 611
    },
    "colab_type": "code",
    "executionInfo": {
     "elapsed": 1542,
     "status": "ok",
     "timestamp": 1584221177265,
     "user": {
      "displayName": "Gaurav Walia",
      "photoUrl": "",
      "userId": "01700986432954323149"
     },
     "user_tz": -330
    },
    "id": "tIcwxb-_Jlh8",
    "outputId": "0fb723b6-bf4f-43c6-b693-d20046253302"
   },
   "outputs": [
    {
     "data": {
      "text/plain": [
       "<matplotlib.axes._subplots.AxesSubplot at 0x7f8122e7fa58>"
      ]
     },
     "execution_count": 14,
     "metadata": {
      "tags": []
     },
     "output_type": "execute_result"
    },
    {
     "data": {
      "image/png": "[encoded data removed]",
      "text/plain": [
       "<Figure size 432x720 with 1 Axes>"
      ]
     },
     "metadata": {
      "tags": []
     },
     "output_type": "display_data"
    }
   ],
   "source": [
    "#Visualizing some of the Caller data\n",
    "plt.figure(figsize=(20, 10))\n",
    "df['Caller'].value_counts().head(30).plot(kind='barh', figsize=(6,10))"
   ]
  },
  {
   "cell_type": "code",
   "execution_count": 0,
   "metadata": {
    "colab": {
     "base_uri": "https://localhost:8080/",
     "height": 146
    },
    "colab_type": "code",
    "executionInfo": {
     "elapsed": 1089,
     "status": "ok",
     "timestamp": 1584221178508,
     "user": {
      "displayName": "Gaurav Walia",
      "photoUrl": "",
      "userId": "01700986432954323149"
     },
     "user_tz": -330
    },
    "id": "4zS4xePIJ0P3",
    "outputId": "54e4fe3b-3036-43a6-ed12-779852e3fed2"
   },
   "outputs": [
    {
     "data": {
      "text/html": [
       "<div>\n",
       "<style scoped>\n",
       "    .dataframe tbody tr th:only-of-type {\n",
       "        vertical-align: middle;\n",
       "    }\n",
       "\n",
       "    .dataframe tbody tr th {\n",
       "        vertical-align: top;\n",
       "    }\n",
       "\n",
       "    .dataframe thead th {\n",
       "        text-align: right;\n",
       "    }\n",
       "</style>\n",
       "<table border=\"1\" class=\"dataframe\">\n",
       "  <thead>\n",
       "    <tr style=\"text-align: right;\">\n",
       "      <th></th>\n",
       "      <th>bpctwhsn kzqsbmtp</th>\n",
       "      <th>ZkBogxib QsEJzdZO</th>\n",
       "      <th>fumkcsji sarmtlhy</th>\n",
       "      <th>rbozivdq gmlhrtvp</th>\n",
       "      <th>rkupnshb gsmzfojw</th>\n",
       "      <th>jloygrwh acvztedi</th>\n",
       "      <th>spxqmiry zpwgoqju</th>\n",
       "      <th>oldrctiu bxurpsyi</th>\n",
       "      <th>olckhmvx pcqobjnd</th>\n",
       "      <th>jyoqwxhz clhxsoqy</th>\n",
       "      <th>dkmcfreg anwmfvlg</th>\n",
       "      <th>efbwiadp dicafxhv</th>\n",
       "      <th>afkstcev utbnkyop</th>\n",
       "      <th>gzhapcld fdigznbk</th>\n",
       "      <th>mnlazfsr mtqrkhnx</th>\n",
       "      <th>uvrbhlnt bjrmalzi</th>\n",
       "      <th>entuakhp xrnhtdmk</th>\n",
       "      <th>jionmpsf wnkpzcmv</th>\n",
       "      <th>vzqomdgt jwoqbuml</th>\n",
       "      <th>bozdftwx smylqejw</th>\n",
       "      <th>qasdhyzm yuglsrwx</th>\n",
       "      <th>rxoynvgi ntgdsehl</th>\n",
       "      <th>utyeofsk rdyzpwhi</th>\n",
       "      <th>vbwszcqn nlbqsuyv</th>\n",
       "      <th>ugyothfz ugrmkdhx</th>\n",
       "      <th>hbmwlprq ilfvyodx</th>\n",
       "      <th>ughzilfm cfibdamq</th>\n",
       "      <th>vfrdxtqw jfbmsenz</th>\n",
       "      <th>niptbwdq csenjruz</th>\n",
       "      <th>pfzxecbo ptygkvzl</th>\n",
       "      <th>mfeyouli ndobtzpw</th>\n",
       "      <th>uxgrdjfc kqxdjeov</th>\n",
       "      <th>xwirzvda okhyipgr</th>\n",
       "      <th>ctvaejbo mjcerqwo</th>\n",
       "      <th>obanjrhg rnafleys</th>\n",
       "      <th>tqfnalpj qyoscnge</th>\n",
       "      <th>wktesmbp lorjymef</th>\n",
       "      <th>aorthyme rnsuipbk</th>\n",
       "      <th>qcfmxgid jvxanwre</th>\n",
       "      <th>ijplstng juybetlo</th>\n",
       "      <th>...</th>\n",
       "      <th>cpnqvlfk imjucnes</th>\n",
       "      <th>okdrsinu gvfmuxdo</th>\n",
       "      <th>chkzbeav ykeilmog</th>\n",
       "      <th>qhyoiwls uynrhiva</th>\n",
       "      <th>hnueblym pxfqkrye</th>\n",
       "      <th>rovsabyl idpvbjtw</th>\n",
       "      <th>ijeqpkrz nwtehsyx</th>\n",
       "      <th>schyepwd ykatfphc</th>\n",
       "      <th>ontswhiv arzepumv</th>\n",
       "      <th>kinryjcf pgetfijq</th>\n",
       "      <th>epbqhudt fumxovjz</th>\n",
       "      <th>bzypjigs qokwvgyn</th>\n",
       "      <th>fplzydvo fwilgedx</th>\n",
       "      <th>ctuodmai vguwqjtd</th>\n",
       "      <th>vumbyikw kqsiougd</th>\n",
       "      <th>ivcygqta qiovrcal</th>\n",
       "      <th>wzbahpxu phvyuwxb</th>\n",
       "      <th>isfadulo etkyjabn</th>\n",
       "      <th>dwflzqyn uinpgbym</th>\n",
       "      <th>svbymfiz afqvyuwh</th>\n",
       "      <th>rcpghuqb bxrqamng</th>\n",
       "      <th>qzvireok yzuplcgw</th>\n",
       "      <th>aikejxpb xdavwocg</th>\n",
       "      <th>isbczxtu gvxureqa</th>\n",
       "      <th>ctbsupdy auhocbli</th>\n",
       "      <th>pxcvrjfq wkdaevfn</th>\n",
       "      <th>jvpqlgib yuhcljqp</th>\n",
       "      <th>jxlekivs fwakmztv</th>\n",
       "      <th>xnkqufwl hjnvudlk</th>\n",
       "      <th>wiypaqtu lmgqbpvi</th>\n",
       "      <th>qasouhlc xkhsirtd</th>\n",
       "      <th>fwgdbatq qgownfkv</th>\n",
       "      <th>jvxmzteb vsdcnfyr</th>\n",
       "      <th>eqmuniov ehxkcbgj</th>\n",
       "      <th>hsbfiako iylbrwpa</th>\n",
       "      <th>napijrez xhpqkojc</th>\n",
       "      <th>pdvrieys wxvsltia</th>\n",
       "      <th>ksxchbaf rhquvzfm</th>\n",
       "      <th>eyxngjol lohcygnf</th>\n",
       "      <th>hawrkqnp sjwrgakp</th>\n",
       "    </tr>\n",
       "  </thead>\n",
       "  <tbody>\n",
       "    <tr>\n",
       "      <th>Caller</th>\n",
       "      <td>810</td>\n",
       "      <td>151</td>\n",
       "      <td>134</td>\n",
       "      <td>87</td>\n",
       "      <td>71</td>\n",
       "      <td>64</td>\n",
       "      <td>63</td>\n",
       "      <td>57</td>\n",
       "      <td>54</td>\n",
       "      <td>51</td>\n",
       "      <td>51</td>\n",
       "      <td>45</td>\n",
       "      <td>32</td>\n",
       "      <td>30</td>\n",
       "      <td>28</td>\n",
       "      <td>27</td>\n",
       "      <td>25</td>\n",
       "      <td>24</td>\n",
       "      <td>24</td>\n",
       "      <td>23</td>\n",
       "      <td>21</td>\n",
       "      <td>21</td>\n",
       "      <td>21</td>\n",
       "      <td>19</td>\n",
       "      <td>17</td>\n",
       "      <td>17</td>\n",
       "      <td>16</td>\n",
       "      <td>16</td>\n",
       "      <td>16</td>\n",
       "      <td>16</td>\n",
       "      <td>15</td>\n",
       "      <td>15</td>\n",
       "      <td>14</td>\n",
       "      <td>14</td>\n",
       "      <td>13</td>\n",
       "      <td>13</td>\n",
       "      <td>13</td>\n",
       "      <td>13</td>\n",
       "      <td>12</td>\n",
       "      <td>12</td>\n",
       "      <td>...</td>\n",
       "      <td>1</td>\n",
       "      <td>1</td>\n",
       "      <td>1</td>\n",
       "      <td>1</td>\n",
       "      <td>1</td>\n",
       "      <td>1</td>\n",
       "      <td>1</td>\n",
       "      <td>1</td>\n",
       "      <td>1</td>\n",
       "      <td>1</td>\n",
       "      <td>1</td>\n",
       "      <td>1</td>\n",
       "      <td>1</td>\n",
       "      <td>1</td>\n",
       "      <td>1</td>\n",
       "      <td>1</td>\n",
       "      <td>1</td>\n",
       "      <td>1</td>\n",
       "      <td>1</td>\n",
       "      <td>1</td>\n",
       "      <td>1</td>\n",
       "      <td>1</td>\n",
       "      <td>1</td>\n",
       "      <td>1</td>\n",
       "      <td>1</td>\n",
       "      <td>1</td>\n",
       "      <td>1</td>\n",
       "      <td>1</td>\n",
       "      <td>1</td>\n",
       "      <td>1</td>\n",
       "      <td>1</td>\n",
       "      <td>1</td>\n",
       "      <td>1</td>\n",
       "      <td>1</td>\n",
       "      <td>1</td>\n",
       "      <td>1</td>\n",
       "      <td>1</td>\n",
       "      <td>1</td>\n",
       "      <td>1</td>\n",
       "      <td>1</td>\n",
       "    </tr>\n",
       "  </tbody>\n",
       "</table>\n",
       "<p>1 rows × 2950 columns</p>\n",
       "</div>"
      ],
      "text/plain": [
       "        bpctwhsn kzqsbmtp  ...  hawrkqnp sjwrgakp\n",
       "Caller                810  ...                  1\n",
       "\n",
       "[1 rows x 2950 columns]"
      ]
     },
     "execution_count": 15,
     "metadata": {
      "tags": []
     },
     "output_type": "execute_result"
    }
   ],
   "source": [
    "caller_data=pd.DataFrame(df['Caller'].value_counts().to_frame()).T\n",
    "caller_data"
   ]
  },
  {
   "cell_type": "code",
   "execution_count": 0,
   "metadata": {
    "colab": {
     "base_uri": "https://localhost:8080/",
     "height": 414
    },
    "colab_type": "code",
    "executionInfo": {
     "elapsed": 1466,
     "status": "ok",
     "timestamp": 1584221181143,
     "user": {
      "displayName": "Gaurav Walia",
      "photoUrl": "",
      "userId": "01700986432954323149"
     },
     "user_tz": -330
    },
    "id": "R5ZAL6RbKW7H",
    "outputId": "128e6a82-169a-4514-a828-6482889749db"
   },
   "outputs": [
    {
     "data": {
      "text/plain": [
       "<matplotlib.axes._subplots.AxesSubplot at 0x7f812286a588>"
      ]
     },
     "execution_count": 16,
     "metadata": {
      "tags": []
     },
     "output_type": "execute_result"
    },
    {
     "data": {
      "image/png": "[encoded data removed]",
      "text/plain": [
       "<Figure size 1440x432 with 1 Axes>"
      ]
     },
     "metadata": {
      "tags": []
     },
     "output_type": "display_data"
    }
   ],
   "source": [
    "#Viewing frequency distribution\n",
    "import seaborn as sns\n",
    "plt.figure(figsize = (20,6))\n",
    "sns.distplot(caller_data, bins = 50, rug = True, color = 'g')"
   ]
  },
  {
   "cell_type": "code",
   "execution_count": 0,
   "metadata": {
    "colab": {
     "base_uri": "https://localhost:8080/",
     "height": 34
    },
    "colab_type": "code",
    "executionInfo": {
     "elapsed": 835,
     "status": "ok",
     "timestamp": 1584221187682,
     "user": {
      "displayName": "Gaurav Walia",
      "photoUrl": "",
      "userId": "01700986432954323149"
     },
     "user_tz": -330
    },
    "id": "-LtuNgH6YRpu",
    "outputId": "533de87e-230b-432a-aa00-8a4ef68453e4"
   },
   "outputs": [
    {
     "data": {
      "text/plain": [
       "2950"
      ]
     },
     "execution_count": 17,
     "metadata": {
      "tags": []
     },
     "output_type": "execute_result"
    }
   ],
   "source": [
    "#Creating dataframe of callers on the basis of their frequency of calling\n",
    "n_caller = list(df['Caller'].value_counts())\n",
    "caller = list(df['Caller'].value_counts().index)\n",
    "\n",
    "data = pd.DataFrame(data=caller,columns=['caller'])\n",
    "data['n_caller'] = n_caller\n",
    "len(data['caller'])"
   ]
  },
  {
   "cell_type": "code",
   "execution_count": 0,
   "metadata": {
    "colab": {
     "base_uri": "https://localhost:8080/",
     "height": 359
    },
    "colab_type": "code",
    "executionInfo": {
     "elapsed": 895,
     "status": "ok",
     "timestamp": 1584221191045,
     "user": {
      "displayName": "Gaurav Walia",
      "photoUrl": "",
      "userId": "01700986432954323149"
     },
     "user_tz": -330
    },
    "id": "nE8WOl3nbVMm",
    "outputId": "6380832d-0e95-4427-ab63-bf9e06ae53a0"
   },
   "outputs": [
    {
     "data": {
      "text/html": [
       "<div>\n",
       "<style scoped>\n",
       "    .dataframe tbody tr th:only-of-type {\n",
       "        vertical-align: middle;\n",
       "    }\n",
       "\n",
       "    .dataframe tbody tr th {\n",
       "        vertical-align: top;\n",
       "    }\n",
       "\n",
       "    .dataframe thead th {\n",
       "        text-align: right;\n",
       "    }\n",
       "</style>\n",
       "<table border=\"1\" class=\"dataframe\">\n",
       "  <thead>\n",
       "    <tr style=\"text-align: right;\">\n",
       "      <th></th>\n",
       "      <th>caller</th>\n",
       "      <th>n_caller</th>\n",
       "    </tr>\n",
       "  </thead>\n",
       "  <tbody>\n",
       "    <tr>\n",
       "      <th>0</th>\n",
       "      <td>Caller1</td>\n",
       "      <td>810</td>\n",
       "    </tr>\n",
       "    <tr>\n",
       "      <th>1</th>\n",
       "      <td>Caller2</td>\n",
       "      <td>151</td>\n",
       "    </tr>\n",
       "    <tr>\n",
       "      <th>2</th>\n",
       "      <td>Caller3</td>\n",
       "      <td>134</td>\n",
       "    </tr>\n",
       "    <tr>\n",
       "      <th>3</th>\n",
       "      <td>Caller4</td>\n",
       "      <td>87</td>\n",
       "    </tr>\n",
       "    <tr>\n",
       "      <th>4</th>\n",
       "      <td>Caller5</td>\n",
       "      <td>71</td>\n",
       "    </tr>\n",
       "    <tr>\n",
       "      <th>5</th>\n",
       "      <td>Caller6</td>\n",
       "      <td>64</td>\n",
       "    </tr>\n",
       "    <tr>\n",
       "      <th>6</th>\n",
       "      <td>Caller7</td>\n",
       "      <td>63</td>\n",
       "    </tr>\n",
       "    <tr>\n",
       "      <th>7</th>\n",
       "      <td>Caller8</td>\n",
       "      <td>57</td>\n",
       "    </tr>\n",
       "    <tr>\n",
       "      <th>8</th>\n",
       "      <td>Caller9</td>\n",
       "      <td>54</td>\n",
       "    </tr>\n",
       "    <tr>\n",
       "      <th>9</th>\n",
       "      <td>Caller10</td>\n",
       "      <td>51</td>\n",
       "    </tr>\n",
       "  </tbody>\n",
       "</table>\n",
       "</div>"
      ],
      "text/plain": [
       "     caller  n_caller\n",
       "0   Caller1       810\n",
       "1   Caller2       151\n",
       "2   Caller3       134\n",
       "3   Caller4        87\n",
       "4   Caller5        71\n",
       "5   Caller6        64\n",
       "6   Caller7        63\n",
       "7   Caller8        57\n",
       "8   Caller9        54\n",
       "9  Caller10        51"
      ]
     },
     "execution_count": 18,
     "metadata": {
      "tags": []
     },
     "output_type": "execute_result"
    }
   ],
   "source": [
    "#Since caller column contains anonymous data, assigning name Caller1, Caller2,..... for better visualization \n",
    "count = 0\n",
    "new_caller = []\n",
    "while count != len(data):\n",
    "    new_caller.append('Caller'+''+ str(count+1))\n",
    "    count = count +1\n",
    "data['caller'] = new_caller\n",
    "data = data.head(20)\n",
    "data.head(10)"
   ]
  },
  {
   "cell_type": "code",
   "execution_count": 0,
   "metadata": {
    "colab": {
     "base_uri": "https://localhost:8080/",
     "height": 542
    },
    "colab_type": "code",
    "executionInfo": {
     "elapsed": 1235,
     "status": "ok",
     "timestamp": 1584221194717,
     "user": {
      "displayName": "Gaurav Walia",
      "photoUrl": "",
      "userId": "01700986432954323149"
     },
     "user_tz": -330
    },
    "id": "dKHWhbmxb-d4",
    "outputId": "076eae02-3f5b-4106-9d28-1e82a20bdbf7"
   },
   "outputs": [
    {
     "data": {
      "text/html": [
       "<html>\n",
       "<head><meta charset=\"utf-8\" /></head>\n",
       "<body>\n",
       "    <div>\n",
       "            <script src=\"https://cdnjs.cloudflare.com/ajax/libs/mathjax/2.7.5/MathJax.js?config=TeX-AMS-MML_SVG\"></script><script type=\"text/javascript\">if (window.MathJax) {MathJax.Hub.Config({SVG: {font: \"STIX-Web\"}});}</script>\n",
       "                <script type=\"text/javascript\">window.PlotlyConfig = {MathJaxConfig: 'local'};</script>\n",
       "        <script src=\"https://cdn.plot.ly/plotly-latest.min.js\"></script>    \n",
       "            <div id=\"2d03e2de-1c9b-46c0-a20a-85e6535b972a\" class=\"plotly-graph-div\" style=\"height:525px; width:100%;\"></div>\n",
       "            <script type=\"text/javascript\">\n",
       "                \n",
       "                    window.PLOTLYENV=window.PLOTLYENV || {};\n",
       "                    \n",
       "                if (document.getElementById(\"2d03e2de-1c9b-46c0-a20a-85e6535b972a\")) {\n",
       "                    Plotly.newPlot(\n",
       "                        '2d03e2de-1c9b-46c0-a20a-85e6535b972a',\n",
       "                        [{\"alignmentgroup\": \"True\", \"customdata\": [[810], [151], [134], [87], [71], [64], [63], [57], [54], [51], [51], [45], [32], [30], [28], [27], [25], [24], [24], [23]], \"hoverlabel\": {\"namelength\": 0}, \"hovertemplate\": \"caller=%{x}<br>n_caller=%{marker.color}\", \"legendgroup\": \"\", \"marker\": {\"color\": [810, 151, 134, 87, 71, 64, 63, 57, 54, 51, 51, 45, 32, 30, 28, 27, 25, 24, 24, 23], \"coloraxis\": \"coloraxis\"}, \"name\": \"\", \"offsetgroup\": \"\", \"orientation\": \"v\", \"showlegend\": false, \"textposition\": \"auto\", \"type\": \"bar\", \"x\": [\"Caller1\", \"Caller2\", \"Caller3\", \"Caller4\", \"Caller5\", \"Caller6\", \"Caller7\", \"Caller8\", \"Caller9\", \"Caller10\", \"Caller11\", \"Caller12\", \"Caller13\", \"Caller14\", \"Caller15\", \"Caller16\", \"Caller17\", \"Caller18\", \"Caller19\", \"Caller20\"], \"xaxis\": \"x\", \"y\": [810, 151, 134, 87, 71, 64, 63, 57, 54, 51, 51, 45, 32, 30, 28, 27, 25, 24, 24, 23], \"yaxis\": \"y\"}],\n",
       "                        {\"barmode\": \"relative\", \"coloraxis\": {\"colorbar\": {\"title\": {\"text\": \"n_caller\"}}, \"colorscale\": [[0.0, \"#0d0887\"], [0.1111111111111111, \"#46039f\"], [0.2222222222222222, \"#7201a8\"], [0.3333333333333333, \"#9c179e\"], [0.4444444444444444, \"#bd3786\"], [0.5555555555555556, \"#d8576b\"], [0.6666666666666666, \"#ed7953\"], [0.7777777777777778, \"#fb9f3a\"], [0.8888888888888888, \"#fdca26\"], [1.0, \"#f0f921\"]]}, \"legend\": {\"tracegroupgap\": 0}, \"margin\": {\"t\": 60}, \"template\": {\"data\": {\"bar\": [{\"error_x\": {\"color\": \"#2a3f5f\"}, \"error_y\": {\"color\": \"#2a3f5f\"}, \"marker\": {\"line\": {\"color\": \"#E5ECF6\", \"width\": 0.5}}, \"type\": \"bar\"}], \"barpolar\": [{\"marker\": {\"line\": {\"color\": \"#E5ECF6\", \"width\": 0.5}}, \"type\": \"barpolar\"}], \"carpet\": [{\"aaxis\": {\"endlinecolor\": \"#2a3f5f\", \"gridcolor\": \"white\", \"linecolor\": \"white\", \"minorgridcolor\": \"white\", \"startlinecolor\": \"#2a3f5f\"}, \"baxis\": {\"endlinecolor\": \"#2a3f5f\", \"gridcolor\": \"white\", \"linecolor\": \"white\", \"minorgridcolor\": \"white\", \"startlinecolor\": \"#2a3f5f\"}, \"type\": \"carpet\"}], \"choropleth\": [{\"colorbar\": {\"outlinewidth\": 0, \"ticks\": \"\"}, \"type\": \"choropleth\"}], \"contour\": [{\"colorbar\": {\"outlinewidth\": 0, \"ticks\": \"\"}, \"colorscale\": [[0.0, \"#0d0887\"], [0.1111111111111111, \"#46039f\"], [0.2222222222222222, \"#7201a8\"], [0.3333333333333333, \"#9c179e\"], [0.4444444444444444, \"#bd3786\"], [0.5555555555555556, \"#d8576b\"], [0.6666666666666666, \"#ed7953\"], [0.7777777777777778, \"#fb9f3a\"], [0.8888888888888888, \"#fdca26\"], [1.0, \"#f0f921\"]], \"type\": \"contour\"}], \"contourcarpet\": [{\"colorbar\": {\"outlinewidth\": 0, \"ticks\": \"\"}, \"type\": \"contourcarpet\"}], \"heatmap\": [{\"colorbar\": {\"outlinewidth\": 0, \"ticks\": \"\"}, \"colorscale\": [[0.0, \"#0d0887\"], [0.1111111111111111, \"#46039f\"], [0.2222222222222222, \"#7201a8\"], [0.3333333333333333, \"#9c179e\"], [0.4444444444444444, \"#bd3786\"], [0.5555555555555556, \"#d8576b\"], [0.6666666666666666, \"#ed7953\"], [0.7777777777777778, \"#fb9f3a\"], [0.8888888888888888, \"#fdca26\"], [1.0, \"#f0f921\"]], \"type\": \"heatmap\"}], \"heatmapgl\": [{\"colorbar\": {\"outlinewidth\": 0, \"ticks\": \"\"}, \"colorscale\": [[0.0, \"#0d0887\"], [0.1111111111111111, \"#46039f\"], [0.2222222222222222, \"#7201a8\"], [0.3333333333333333, \"#9c179e\"], [0.4444444444444444, \"#bd3786\"], [0.5555555555555556, \"#d8576b\"], [0.6666666666666666, \"#ed7953\"], [0.7777777777777778, \"#fb9f3a\"], [0.8888888888888888, \"#fdca26\"], [1.0, \"#f0f921\"]], \"type\": \"heatmapgl\"}], \"histogram\": [{\"marker\": {\"colorbar\": {\"outlinewidth\": 0, \"ticks\": \"\"}}, \"type\": \"histogram\"}], \"histogram2d\": [{\"colorbar\": {\"outlinewidth\": 0, \"ticks\": \"\"}, \"colorscale\": [[0.0, \"#0d0887\"], [0.1111111111111111, \"#46039f\"], [0.2222222222222222, \"#7201a8\"], [0.3333333333333333, \"#9c179e\"], [0.4444444444444444, \"#bd3786\"], [0.5555555555555556, \"#d8576b\"], [0.6666666666666666, \"#ed7953\"], [0.7777777777777778, \"#fb9f3a\"], [0.8888888888888888, \"#fdca26\"], [1.0, \"#f0f921\"]], \"type\": \"histogram2d\"}], \"histogram2dcontour\": [{\"colorbar\": {\"outlinewidth\": 0, \"ticks\": \"\"}, \"colorscale\": [[0.0, \"#0d0887\"], [0.1111111111111111, \"#46039f\"], [0.2222222222222222, \"#7201a8\"], [0.3333333333333333, \"#9c179e\"], [0.4444444444444444, \"#bd3786\"], [0.5555555555555556, \"#d8576b\"], [0.6666666666666666, \"#ed7953\"], [0.7777777777777778, \"#fb9f3a\"], [0.8888888888888888, \"#fdca26\"], [1.0, \"#f0f921\"]], \"type\": \"histogram2dcontour\"}], \"mesh3d\": [{\"colorbar\": {\"outlinewidth\": 0, \"ticks\": \"\"}, \"type\": \"mesh3d\"}], \"parcoords\": [{\"line\": {\"colorbar\": {\"outlinewidth\": 0, \"ticks\": \"\"}}, \"type\": \"parcoords\"}], \"pie\": [{\"automargin\": true, \"type\": \"pie\"}], \"scatter\": [{\"marker\": {\"colorbar\": {\"outlinewidth\": 0, \"ticks\": \"\"}}, \"type\": \"scatter\"}], \"scatter3d\": [{\"line\": {\"colorbar\": {\"outlinewidth\": 0, \"ticks\": \"\"}}, \"marker\": {\"colorbar\": {\"outlinewidth\": 0, \"ticks\": \"\"}}, \"type\": \"scatter3d\"}], \"scattercarpet\": [{\"marker\": {\"colorbar\": {\"outlinewidth\": 0, \"ticks\": \"\"}}, \"type\": \"scattercarpet\"}], \"scattergeo\": [{\"marker\": {\"colorbar\": {\"outlinewidth\": 0, \"ticks\": \"\"}}, \"type\": \"scattergeo\"}], \"scattergl\": [{\"marker\": {\"colorbar\": {\"outlinewidth\": 0, \"ticks\": \"\"}}, \"type\": \"scattergl\"}], \"scattermapbox\": [{\"marker\": {\"colorbar\": {\"outlinewidth\": 0, \"ticks\": \"\"}}, \"type\": \"scattermapbox\"}], \"scatterpolar\": [{\"marker\": {\"colorbar\": {\"outlinewidth\": 0, \"ticks\": \"\"}}, \"type\": \"scatterpolar\"}], \"scatterpolargl\": [{\"marker\": {\"colorbar\": {\"outlinewidth\": 0, \"ticks\": \"\"}}, \"type\": \"scatterpolargl\"}], \"scatterternary\": [{\"marker\": {\"colorbar\": {\"outlinewidth\": 0, \"ticks\": \"\"}}, \"type\": \"scatterternary\"}], \"surface\": [{\"colorbar\": {\"outlinewidth\": 0, \"ticks\": \"\"}, \"colorscale\": [[0.0, \"#0d0887\"], [0.1111111111111111, \"#46039f\"], [0.2222222222222222, \"#7201a8\"], [0.3333333333333333, \"#9c179e\"], [0.4444444444444444, \"#bd3786\"], [0.5555555555555556, \"#d8576b\"], [0.6666666666666666, \"#ed7953\"], [0.7777777777777778, \"#fb9f3a\"], [0.8888888888888888, \"#fdca26\"], [1.0, \"#f0f921\"]], \"type\": \"surface\"}], \"table\": [{\"cells\": {\"fill\": {\"color\": \"#EBF0F8\"}, \"line\": {\"color\": \"white\"}}, \"header\": {\"fill\": {\"color\": \"#C8D4E3\"}, \"line\": {\"color\": \"white\"}}, \"type\": \"table\"}]}, \"layout\": {\"annotationdefaults\": {\"arrowcolor\": \"#2a3f5f\", \"arrowhead\": 0, \"arrowwidth\": 1}, \"coloraxis\": {\"colorbar\": {\"outlinewidth\": 0, \"ticks\": \"\"}}, \"colorscale\": {\"diverging\": [[0, \"#8e0152\"], [0.1, \"#c51b7d\"], [0.2, \"#de77ae\"], [0.3, \"#f1b6da\"], [0.4, \"#fde0ef\"], [0.5, \"#f7f7f7\"], [0.6, \"#e6f5d0\"], [0.7, \"#b8e186\"], [0.8, \"#7fbc41\"], [0.9, \"#4d9221\"], [1, \"#276419\"]], \"sequential\": [[0.0, \"#0d0887\"], [0.1111111111111111, \"#46039f\"], [0.2222222222222222, \"#7201a8\"], [0.3333333333333333, \"#9c179e\"], [0.4444444444444444, \"#bd3786\"], [0.5555555555555556, \"#d8576b\"], [0.6666666666666666, \"#ed7953\"], [0.7777777777777778, \"#fb9f3a\"], [0.8888888888888888, \"#fdca26\"], [1.0, \"#f0f921\"]], \"sequentialminus\": [[0.0, \"#0d0887\"], [0.1111111111111111, \"#46039f\"], [0.2222222222222222, \"#7201a8\"], [0.3333333333333333, \"#9c179e\"], [0.4444444444444444, \"#bd3786\"], [0.5555555555555556, \"#d8576b\"], [0.6666666666666666, \"#ed7953\"], [0.7777777777777778, \"#fb9f3a\"], [0.8888888888888888, \"#fdca26\"], [1.0, \"#f0f921\"]]}, \"colorway\": [\"#636efa\", \"#EF553B\", \"#00cc96\", \"#ab63fa\", \"#FFA15A\", \"#19d3f3\", \"#FF6692\", \"#B6E880\", \"#FF97FF\", \"#FECB52\"], \"font\": {\"color\": \"#2a3f5f\"}, \"geo\": {\"bgcolor\": \"white\", \"lakecolor\": \"white\", \"landcolor\": \"#E5ECF6\", \"showlakes\": true, \"showland\": true, \"subunitcolor\": \"white\"}, \"hoverlabel\": {\"align\": \"left\"}, \"hovermode\": \"closest\", \"mapbox\": {\"style\": \"light\"}, \"paper_bgcolor\": \"white\", \"plot_bgcolor\": \"#E5ECF6\", \"polar\": {\"angularaxis\": {\"gridcolor\": \"white\", \"linecolor\": \"white\", \"ticks\": \"\"}, \"bgcolor\": \"#E5ECF6\", \"radialaxis\": {\"gridcolor\": \"white\", \"linecolor\": \"white\", \"ticks\": \"\"}}, \"scene\": {\"xaxis\": {\"backgroundcolor\": \"#E5ECF6\", \"gridcolor\": \"white\", \"gridwidth\": 2, \"linecolor\": \"white\", \"showbackground\": true, \"ticks\": \"\", \"zerolinecolor\": \"white\"}, \"yaxis\": {\"backgroundcolor\": \"#E5ECF6\", \"gridcolor\": \"white\", \"gridwidth\": 2, \"linecolor\": \"white\", \"showbackground\": true, \"ticks\": \"\", \"zerolinecolor\": \"white\"}, \"zaxis\": {\"backgroundcolor\": \"#E5ECF6\", \"gridcolor\": \"white\", \"gridwidth\": 2, \"linecolor\": \"white\", \"showbackground\": true, \"ticks\": \"\", \"zerolinecolor\": \"white\"}}, \"shapedefaults\": {\"line\": {\"color\": \"#2a3f5f\"}}, \"ternary\": {\"aaxis\": {\"gridcolor\": \"white\", \"linecolor\": \"white\", \"ticks\": \"\"}, \"baxis\": {\"gridcolor\": \"white\", \"linecolor\": \"white\", \"ticks\": \"\"}, \"bgcolor\": \"#E5ECF6\", \"caxis\": {\"gridcolor\": \"white\", \"linecolor\": \"white\", \"ticks\": \"\"}}, \"title\": {\"x\": 0.05}, \"xaxis\": {\"automargin\": true, \"gridcolor\": \"white\", \"linecolor\": \"white\", \"ticks\": \"\", \"title\": {\"standoff\": 15}, \"zerolinecolor\": \"white\", \"zerolinewidth\": 2}, \"yaxis\": {\"automargin\": true, \"gridcolor\": \"white\", \"linecolor\": \"white\", \"ticks\": \"\", \"title\": {\"standoff\": 15}, \"zerolinecolor\": \"white\", \"zerolinewidth\": 2}}}, \"xaxis\": {\"anchor\": \"y\", \"domain\": [0.0, 1.0], \"title\": {\"text\": \"caller\"}}, \"yaxis\": {\"anchor\": \"x\", \"domain\": [0.0, 1.0], \"title\": {\"text\": \"n_caller\"}}},\n",
       "                        {\"responsive\": true}\n",
       "                    ).then(function(){\n",
       "                            \n",
       "var gd = document.getElementById('2d03e2de-1c9b-46c0-a20a-85e6535b972a');\n",
       "var x = new MutationObserver(function (mutations, observer) {{\n",
       "        var display = window.getComputedStyle(gd).display;\n",
       "        if (!display || display === 'none') {{\n",
       "            console.log([gd, 'removed!']);\n",
       "            Plotly.purge(gd);\n",
       "            observer.disconnect();\n",
       "        }}\n",
       "}});\n",
       "\n",
       "// Listen for the removal of the full notebook cells\n",
       "var notebookContainer = gd.closest('#notebook-container');\n",
       "if (notebookContainer) {{\n",
       "    x.observe(notebookContainer, {childList: true});\n",
       "}}\n",
       "\n",
       "// Listen for the clearing of the current output cell\n",
       "var outputEl = gd.closest('.output');\n",
       "if (outputEl) {{\n",
       "    x.observe(outputEl, {childList: true});\n",
       "}}\n",
       "\n",
       "                        })\n",
       "                };\n",
       "                \n",
       "            </script>\n",
       "        </div>\n",
       "</body>\n",
       "</html>"
      ]
     },
     "metadata": {
      "tags": []
     },
     "output_type": "display_data"
    }
   ],
   "source": [
    "#top 20 callers\n",
    "fig = px.bar(data, x='caller', y='n_caller',hover_data=['n_caller'],color='n_caller')\n",
    "fig.show()"
   ]
  },
  {
   "cell_type": "markdown",
   "metadata": {
    "colab_type": "text",
    "id": "Tyl__1vLgqv6"
   },
   "source": [
    "## \"Caller\" column seems to be anonymised data (usernames/ids). We can drop it."
   ]
  },
  {
   "cell_type": "code",
   "execution_count": 0,
   "metadata": {
    "colab": {
     "base_uri": "https://localhost:8080/",
     "height": 669
    },
    "colab_type": "code",
    "executionInfo": {
     "elapsed": 1256,
     "status": "ok",
     "timestamp": 1584221201289,
     "user": {
      "displayName": "Gaurav Walia",
      "photoUrl": "",
      "userId": "01700986432954323149"
     },
     "user_tz": -330
    },
    "id": "ZaqBo4eygpo4",
    "outputId": "d36632f2-b17e-4afe-bafe-b10f5d30f9bb"
   },
   "outputs": [
    {
     "data": {
      "text/html": [
       "<div>\n",
       "<style scoped>\n",
       "    .dataframe tbody tr th:only-of-type {\n",
       "        vertical-align: middle;\n",
       "    }\n",
       "\n",
       "    .dataframe tbody tr th {\n",
       "        vertical-align: top;\n",
       "    }\n",
       "\n",
       "    .dataframe thead th {\n",
       "        text-align: right;\n",
       "    }\n",
       "</style>\n",
       "<table border=\"1\" class=\"dataframe\">\n",
       "  <thead>\n",
       "    <tr style=\"text-align: right;\">\n",
       "      <th></th>\n",
       "      <th>Short_description</th>\n",
       "      <th>Description</th>\n",
       "      <th>Group</th>\n",
       "    </tr>\n",
       "  </thead>\n",
       "  <tbody>\n",
       "    <tr>\n",
       "      <th>0</th>\n",
       "      <td>login issue</td>\n",
       "      <td>-verified user details.(employee# &amp; manager na...</td>\n",
       "      <td>GRP_0</td>\n",
       "    </tr>\n",
       "    <tr>\n",
       "      <th>1</th>\n",
       "      <td>outlook</td>\n",
       "      <td>\\r\\n\\r\\nreceived from: hmjdrvpb.komuaywn@gmail...</td>\n",
       "      <td>GRP_0</td>\n",
       "    </tr>\n",
       "    <tr>\n",
       "      <th>2</th>\n",
       "      <td>cant log in to vpn</td>\n",
       "      <td>\\r\\n\\r\\nreceived from: eylqgodm.ybqkwiam@gmail...</td>\n",
       "      <td>GRP_0</td>\n",
       "    </tr>\n",
       "    <tr>\n",
       "      <th>3</th>\n",
       "      <td>unable to access hr_tool page</td>\n",
       "      <td>unable to access hr_tool page</td>\n",
       "      <td>GRP_0</td>\n",
       "    </tr>\n",
       "    <tr>\n",
       "      <th>4</th>\n",
       "      <td>skype error</td>\n",
       "      <td>skype error</td>\n",
       "      <td>GRP_0</td>\n",
       "    </tr>\n",
       "    <tr>\n",
       "      <th>5</th>\n",
       "      <td>unable to log in to engineering tool and skype</td>\n",
       "      <td>unable to log in to engineering tool and skype</td>\n",
       "      <td>GRP_0</td>\n",
       "    </tr>\n",
       "    <tr>\n",
       "      <th>6</th>\n",
       "      <td>event: critical:HostName_221.company.com the v...</td>\n",
       "      <td>event: critical:HostName_221.company.com the v...</td>\n",
       "      <td>GRP_1</td>\n",
       "    </tr>\n",
       "    <tr>\n",
       "      <th>7</th>\n",
       "      <td>ticket_no1550391- employment status - new non-...</td>\n",
       "      <td>ticket_no1550391- employment status - new non-...</td>\n",
       "      <td>GRP_0</td>\n",
       "    </tr>\n",
       "    <tr>\n",
       "      <th>8</th>\n",
       "      <td>unable to disable add ins on outlook</td>\n",
       "      <td>unable to disable add ins on outlook</td>\n",
       "      <td>GRP_0</td>\n",
       "    </tr>\n",
       "    <tr>\n",
       "      <th>9</th>\n",
       "      <td>ticket update on inplant_874773</td>\n",
       "      <td>ticket update on inplant_874773</td>\n",
       "      <td>GRP_0</td>\n",
       "    </tr>\n",
       "    <tr>\n",
       "      <th>10</th>\n",
       "      <td>engineering tool says not connected and unable...</td>\n",
       "      <td>engineering tool says not connected and unable...</td>\n",
       "      <td>GRP_0</td>\n",
       "    </tr>\n",
       "    <tr>\n",
       "      <th>11</th>\n",
       "      <td>hr_tool site not loading page correctly</td>\n",
       "      <td>hr_tool site not loading page correctly</td>\n",
       "      <td>GRP_0</td>\n",
       "    </tr>\n",
       "    <tr>\n",
       "      <th>12</th>\n",
       "      <td>unable to login to hr_tool to sgxqsuojr xwbeso...</td>\n",
       "      <td>unable to login to hr_tool to sgxqsuojr xwbeso...</td>\n",
       "      <td>GRP_0</td>\n",
       "    </tr>\n",
       "    <tr>\n",
       "      <th>13</th>\n",
       "      <td>user wants to reset the password</td>\n",
       "      <td>user wants to reset the password</td>\n",
       "      <td>GRP_0</td>\n",
       "    </tr>\n",
       "    <tr>\n",
       "      <th>14</th>\n",
       "      <td>unable to open payslips</td>\n",
       "      <td>unable to open payslips</td>\n",
       "      <td>GRP_0</td>\n",
       "    </tr>\n",
       "    <tr>\n",
       "      <th>15</th>\n",
       "      <td>ticket update on inplant_874743</td>\n",
       "      <td>ticket update on inplant_874743</td>\n",
       "      <td>GRP_0</td>\n",
       "    </tr>\n",
       "    <tr>\n",
       "      <th>16</th>\n",
       "      <td>unable to login to company vpn</td>\n",
       "      <td>\\n\\nreceived from: xyz@company.com\\n\\nhi,\\n\\ni...</td>\n",
       "      <td>GRP_0</td>\n",
       "    </tr>\n",
       "    <tr>\n",
       "      <th>17</th>\n",
       "      <td>when undocking pc , screen will not come back</td>\n",
       "      <td>when undocking pc , screen will not come back</td>\n",
       "      <td>GRP_3</td>\n",
       "    </tr>\n",
       "    <tr>\n",
       "      <th>18</th>\n",
       "      <td>erp SID_34 account locked</td>\n",
       "      <td>erp SID_34 account locked</td>\n",
       "      <td>GRP_0</td>\n",
       "    </tr>\n",
       "    <tr>\n",
       "      <th>19</th>\n",
       "      <td>unable to sign into vpn</td>\n",
       "      <td>unable to sign into vpn</td>\n",
       "      <td>GRP_0</td>\n",
       "    </tr>\n",
       "  </tbody>\n",
       "</table>\n",
       "</div>"
      ],
      "text/plain": [
       "                                    Short_description  ...  Group\n",
       "0                                         login issue  ...  GRP_0\n",
       "1                                             outlook  ...  GRP_0\n",
       "2                                  cant log in to vpn  ...  GRP_0\n",
       "3                       unable to access hr_tool page  ...  GRP_0\n",
       "4                                        skype error   ...  GRP_0\n",
       "5      unable to log in to engineering tool and skype  ...  GRP_0\n",
       "6   event: critical:HostName_221.company.com the v...  ...  GRP_1\n",
       "7   ticket_no1550391- employment status - new non-...  ...  GRP_0\n",
       "8                unable to disable add ins on outlook  ...  GRP_0\n",
       "9                     ticket update on inplant_874773  ...  GRP_0\n",
       "10  engineering tool says not connected and unable...  ...  GRP_0\n",
       "11            hr_tool site not loading page correctly  ...  GRP_0\n",
       "12  unable to login to hr_tool to sgxqsuojr xwbeso...  ...  GRP_0\n",
       "13                   user wants to reset the password  ...  GRP_0\n",
       "14                           unable to open payslips   ...  GRP_0\n",
       "15                    ticket update on inplant_874743  ...  GRP_0\n",
       "16                     unable to login to company vpn  ...  GRP_0\n",
       "17      when undocking pc , screen will not come back  ...  GRP_3\n",
       "18                          erp SID_34 account locked  ...  GRP_0\n",
       "19                            unable to sign into vpn  ...  GRP_0\n",
       "\n",
       "[20 rows x 3 columns]"
      ]
     },
     "execution_count": 20,
     "metadata": {
      "tags": []
     },
     "output_type": "execute_result"
    }
   ],
   "source": [
    "df_v1 = df.drop('Caller',axis=1)\n",
    "df_v1.head(20)"
   ]
  },
  {
   "cell_type": "code",
   "execution_count": 0,
   "metadata": {
    "colab": {
     "base_uri": "https://localhost:8080/",
     "height": 85
    },
    "colab_type": "code",
    "executionInfo": {
     "elapsed": 912,
     "status": "ok",
     "timestamp": 1584221203655,
     "user": {
      "displayName": "Gaurav Walia",
      "photoUrl": "",
      "userId": "01700986432954323149"
     },
     "user_tz": -330
    },
    "id": "yEaRisVajfkB",
    "outputId": "f2d05dbd-6acf-4743-e6eb-44ac9e18c5dc"
   },
   "outputs": [
    {
     "data": {
      "text/plain": [
       "Short_description    2862\n",
       "Description          2862\n",
       "Group                2862\n",
       "dtype: int64"
      ]
     },
     "execution_count": 21,
     "metadata": {
      "tags": []
     },
     "output_type": "execute_result"
    }
   ],
   "source": [
    "# Fetch rows with same data in \"Short_description\" & \"Description\"\n",
    "df_v1[df_v1['Short_description'] == df_v1['Description']].count()"
   ]
  },
  {
   "cell_type": "markdown",
   "metadata": {
    "colab_type": "text",
    "id": "q7Mt7CDccCgD"
   },
   "source": [
    "## Imputing Null values in Short Description & Description columns"
   ]
  },
  {
   "cell_type": "code",
   "execution_count": 0,
   "metadata": {
    "colab": {
     "base_uri": "https://localhost:8080/",
     "height": 51
    },
    "colab_type": "code",
    "executionInfo": {
     "elapsed": 2895,
     "status": "ok",
     "timestamp": 1584221209947,
     "user": {
      "displayName": "Gaurav Walia",
      "photoUrl": "",
      "userId": "01700986432954323149"
     },
     "user_tz": -330
    },
    "id": "fR1T_AG1E882",
    "outputId": "1658899c-461f-4125-c7f9-505085a0b696"
   },
   "outputs": [
    {
     "name": "stdout",
     "output_type": "stream",
     "text": [
      "Null Values in data: 9\n",
      "Null Values in data: 0\n"
     ]
    }
   ],
   "source": [
    "# Check for number of null values in each columns\n",
    "print(\"Null Values in data:\", df_v1.isnull().sum().sum())\n",
    "\n",
    "# Impute missing values\n",
    "df_v1['Short_description'].fillna(df_v1['Description'], inplace=True)\n",
    "df_v1['Description'].fillna(df_v1['Short_description'], inplace=True)\n",
    "\n",
    "print(\"Null Values in data:\", df_v1.isnull().sum().sum())"
   ]
  },
  {
   "cell_type": "markdown",
   "metadata": {
    "colab_type": "text",
    "id": "X-vy4WCAhgW6"
   },
   "source": [
    "## Concatenating \"Short Description\" and \"Description\" to get \"Summary\" Tickets"
   ]
  },
  {
   "cell_type": "code",
   "execution_count": 0,
   "metadata": {
    "colab": {
     "base_uri": "https://localhost:8080/",
     "height": 669
    },
    "colab_type": "code",
    "executionInfo": {
     "elapsed": 1101,
     "status": "ok",
     "timestamp": 1584221215698,
     "user": {
      "displayName": "Gaurav Walia",
      "photoUrl": "",
      "userId": "01700986432954323149"
     },
     "user_tz": -330
    },
    "id": "Pe3nSM81ivz8",
    "outputId": "26d49527-b5fb-443b-d61c-6c12756d710e"
   },
   "outputs": [
    {
     "data": {
      "text/html": [
       "<div>\n",
       "<style scoped>\n",
       "    .dataframe tbody tr th:only-of-type {\n",
       "        vertical-align: middle;\n",
       "    }\n",
       "\n",
       "    .dataframe tbody tr th {\n",
       "        vertical-align: top;\n",
       "    }\n",
       "\n",
       "    .dataframe thead th {\n",
       "        text-align: right;\n",
       "    }\n",
       "</style>\n",
       "<table border=\"1\" class=\"dataframe\">\n",
       "  <thead>\n",
       "    <tr style=\"text-align: right;\">\n",
       "      <th></th>\n",
       "      <th>Summary</th>\n",
       "      <th>Group</th>\n",
       "    </tr>\n",
       "  </thead>\n",
       "  <tbody>\n",
       "    <tr>\n",
       "      <th>0</th>\n",
       "      <td>login issue -verified user details.(employee# ...</td>\n",
       "      <td>GRP_0</td>\n",
       "    </tr>\n",
       "    <tr>\n",
       "      <th>1</th>\n",
       "      <td>outlook \\r\\n\\r\\nreceived from: hmjdrvpb.komuay...</td>\n",
       "      <td>GRP_0</td>\n",
       "    </tr>\n",
       "    <tr>\n",
       "      <th>2</th>\n",
       "      <td>cant log in to vpn \\r\\n\\r\\nreceived from: eylq...</td>\n",
       "      <td>GRP_0</td>\n",
       "    </tr>\n",
       "    <tr>\n",
       "      <th>3</th>\n",
       "      <td>unable to access hr_tool page unable to access...</td>\n",
       "      <td>GRP_0</td>\n",
       "    </tr>\n",
       "    <tr>\n",
       "      <th>4</th>\n",
       "      <td>skype error  skype error</td>\n",
       "      <td>GRP_0</td>\n",
       "    </tr>\n",
       "    <tr>\n",
       "      <th>5</th>\n",
       "      <td>unable to log in to engineering tool and skype...</td>\n",
       "      <td>GRP_0</td>\n",
       "    </tr>\n",
       "    <tr>\n",
       "      <th>6</th>\n",
       "      <td>event: critical:HostName_221.company.com the v...</td>\n",
       "      <td>GRP_1</td>\n",
       "    </tr>\n",
       "    <tr>\n",
       "      <th>7</th>\n",
       "      <td>ticket_no1550391- employment status - new non-...</td>\n",
       "      <td>GRP_0</td>\n",
       "    </tr>\n",
       "    <tr>\n",
       "      <th>8</th>\n",
       "      <td>unable to disable add ins on outlook unable to...</td>\n",
       "      <td>GRP_0</td>\n",
       "    </tr>\n",
       "    <tr>\n",
       "      <th>9</th>\n",
       "      <td>ticket update on inplant_874773 ticket update ...</td>\n",
       "      <td>GRP_0</td>\n",
       "    </tr>\n",
       "    <tr>\n",
       "      <th>10</th>\n",
       "      <td>engineering tool says not connected and unable...</td>\n",
       "      <td>GRP_0</td>\n",
       "    </tr>\n",
       "    <tr>\n",
       "      <th>11</th>\n",
       "      <td>hr_tool site not loading page correctly hr_too...</td>\n",
       "      <td>GRP_0</td>\n",
       "    </tr>\n",
       "    <tr>\n",
       "      <th>12</th>\n",
       "      <td>unable to login to hr_tool to sgxqsuojr xwbeso...</td>\n",
       "      <td>GRP_0</td>\n",
       "    </tr>\n",
       "    <tr>\n",
       "      <th>13</th>\n",
       "      <td>user wants to reset the password user wants to...</td>\n",
       "      <td>GRP_0</td>\n",
       "    </tr>\n",
       "    <tr>\n",
       "      <th>14</th>\n",
       "      <td>unable to open payslips  unable to open payslips</td>\n",
       "      <td>GRP_0</td>\n",
       "    </tr>\n",
       "    <tr>\n",
       "      <th>15</th>\n",
       "      <td>ticket update on inplant_874743 ticket update ...</td>\n",
       "      <td>GRP_0</td>\n",
       "    </tr>\n",
       "    <tr>\n",
       "      <th>16</th>\n",
       "      <td>unable to login to company vpn \\n\\nreceived fr...</td>\n",
       "      <td>GRP_0</td>\n",
       "    </tr>\n",
       "    <tr>\n",
       "      <th>17</th>\n",
       "      <td>when undocking pc , screen will not come back ...</td>\n",
       "      <td>GRP_3</td>\n",
       "    </tr>\n",
       "    <tr>\n",
       "      <th>18</th>\n",
       "      <td>erp SID_34 account locked erp SID_34 account l...</td>\n",
       "      <td>GRP_0</td>\n",
       "    </tr>\n",
       "    <tr>\n",
       "      <th>19</th>\n",
       "      <td>unable to sign into vpn unable to sign into vpn</td>\n",
       "      <td>GRP_0</td>\n",
       "    </tr>\n",
       "  </tbody>\n",
       "</table>\n",
       "</div>"
      ],
      "text/plain": [
       "                                              Summary  Group\n",
       "0   login issue -verified user details.(employee# ...  GRP_0\n",
       "1   outlook \\r\\n\\r\\nreceived from: hmjdrvpb.komuay...  GRP_0\n",
       "2   cant log in to vpn \\r\\n\\r\\nreceived from: eylq...  GRP_0\n",
       "3   unable to access hr_tool page unable to access...  GRP_0\n",
       "4                           skype error  skype error   GRP_0\n",
       "5   unable to log in to engineering tool and skype...  GRP_0\n",
       "6   event: critical:HostName_221.company.com the v...  GRP_1\n",
       "7   ticket_no1550391- employment status - new non-...  GRP_0\n",
       "8   unable to disable add ins on outlook unable to...  GRP_0\n",
       "9   ticket update on inplant_874773 ticket update ...  GRP_0\n",
       "10  engineering tool says not connected and unable...  GRP_0\n",
       "11  hr_tool site not loading page correctly hr_too...  GRP_0\n",
       "12  unable to login to hr_tool to sgxqsuojr xwbeso...  GRP_0\n",
       "13  user wants to reset the password user wants to...  GRP_0\n",
       "14  unable to open payslips  unable to open payslips   GRP_0\n",
       "15  ticket update on inplant_874743 ticket update ...  GRP_0\n",
       "16  unable to login to company vpn \\n\\nreceived fr...  GRP_0\n",
       "17  when undocking pc , screen will not come back ...  GRP_3\n",
       "18  erp SID_34 account locked erp SID_34 account l...  GRP_0\n",
       "19    unable to sign into vpn unable to sign into vpn  GRP_0"
      ]
     },
     "execution_count": 23,
     "metadata": {
      "tags": []
     },
     "output_type": "execute_result"
    }
   ],
   "source": [
    "df_v1[\"Summary\"] = df_v1['Short_description'] + ' ' + df_v1['Description']\n",
    "df_v2 = df_v1.drop(['Short_description','Description'],axis=1)\n",
    "df_v2 = df_v2[['Summary','Group']]\n",
    "df_v2.head(20) "
   ]
  },
  {
   "cell_type": "markdown",
   "metadata": {
    "colab_type": "text",
    "id": "jSUUCUhMHgjW"
   },
   "source": [
    "## For \"Assignment Group\" type where number of tickets in te category is less than specified freuency, we will mark then into \"GRP_Manual\". All \"GRP_Manual\" tickets should be triaged manually, until the model has enough data to categorise them automatically."
   ]
  },
  {
   "cell_type": "code",
   "execution_count": 0,
   "metadata": {
    "colab": {
     "base_uri": "https://localhost:8080/",
     "height": 476
    },
    "colab_type": "code",
    "executionInfo": {
     "elapsed": 977,
     "status": "ok",
     "timestamp": 1584221220788,
     "user": {
      "displayName": "Gaurav Walia",
      "photoUrl": "",
      "userId": "01700986432954323149"
     },
     "user_tz": -330
    },
    "id": "o_HWFFeYFvKz",
    "outputId": "82b5e606-1dd8-4a0d-8387-efd3f2cb838c"
   },
   "outputs": [
    {
     "name": "stdout",
     "output_type": "stream",
     "text": [
      "Updated unique group types 25\n"
     ]
    },
    {
     "data": {
      "text/plain": [
       "GRP_26          56\n",
       "GRP_34          62\n",
       "GRP_7           68\n",
       "GRP_31          69\n",
       "GRP_17          81\n",
       "GRP_16          85\n",
       "GRP_18          88\n",
       "GRP_29          97\n",
       "GRP_4          100\n",
       "GRP_33         107\n",
       "GRP_25         116\n",
       "GRP_14         118\n",
       "GRP_5          129\n",
       "GRP_10         140\n",
       "GRP_13         145\n",
       "GRP_6          184\n",
       "GRP_3          200\n",
       "GRP_19         215\n",
       "GRP_2          241\n",
       "GRP_9          252\n",
       "GRP_12         257\n",
       "GRP_24         289\n",
       "GRP_8          661\n",
       "GRP_Manual     764\n",
       "GRP_0         3976\n",
       "Name: Group, dtype: int64"
      ]
     },
     "execution_count": 24,
     "metadata": {
      "tags": []
     },
     "output_type": "execute_result"
    }
   ],
   "source": [
    "# Reset Assignment Group for group  types with less data\n",
    "Frequency_Threshold = 50\n",
    "count = df_v2['Group'].value_counts(ascending=True)\n",
    "idx = count[count.lt(Frequency_Threshold)].index\n",
    "df_v2.loc[df_v2['Group'].isin(idx), 'Group'] = 'GRP_Manual'\n",
    "print(\"Updated unique group types\",df_v2['Group'].nunique())\n",
    "df_v2['Group'].value_counts(ascending=True)\n"
   ]
  },
  {
   "cell_type": "code",
   "execution_count": 0,
   "metadata": {
    "colab": {
     "base_uri": "https://localhost:8080/",
     "height": 669
    },
    "colab_type": "code",
    "executionInfo": {
     "elapsed": 899,
     "status": "ok",
     "timestamp": 1584221223413,
     "user": {
      "displayName": "Gaurav Walia",
      "photoUrl": "",
      "userId": "01700986432954323149"
     },
     "user_tz": -330
    },
    "id": "EK1sLT94eg8a",
    "outputId": "b69b85ec-07a4-466d-bbf8-3f211ef981a0"
   },
   "outputs": [
    {
     "data": {
      "text/html": [
       "<div>\n",
       "<style scoped>\n",
       "    .dataframe tbody tr th:only-of-type {\n",
       "        vertical-align: middle;\n",
       "    }\n",
       "\n",
       "    .dataframe tbody tr th {\n",
       "        vertical-align: top;\n",
       "    }\n",
       "\n",
       "    .dataframe thead th {\n",
       "        text-align: right;\n",
       "    }\n",
       "</style>\n",
       "<table border=\"1\" class=\"dataframe\">\n",
       "  <thead>\n",
       "    <tr style=\"text-align: right;\">\n",
       "      <th></th>\n",
       "      <th>Summary</th>\n",
       "      <th>Group</th>\n",
       "    </tr>\n",
       "  </thead>\n",
       "  <tbody>\n",
       "    <tr>\n",
       "      <th>0</th>\n",
       "      <td>login issue -verified user details.(employee# ...</td>\n",
       "      <td>0</td>\n",
       "    </tr>\n",
       "    <tr>\n",
       "      <th>1</th>\n",
       "      <td>outlook \\r\\n\\r\\nreceived from: hmjdrvpb.komuay...</td>\n",
       "      <td>0</td>\n",
       "    </tr>\n",
       "    <tr>\n",
       "      <th>2</th>\n",
       "      <td>cant log in to vpn \\r\\n\\r\\nreceived from: eylq...</td>\n",
       "      <td>0</td>\n",
       "    </tr>\n",
       "    <tr>\n",
       "      <th>3</th>\n",
       "      <td>unable to access hr_tool page unable to access...</td>\n",
       "      <td>0</td>\n",
       "    </tr>\n",
       "    <tr>\n",
       "      <th>4</th>\n",
       "      <td>skype error  skype error</td>\n",
       "      <td>0</td>\n",
       "    </tr>\n",
       "    <tr>\n",
       "      <th>5</th>\n",
       "      <td>unable to log in to engineering tool and skype...</td>\n",
       "      <td>0</td>\n",
       "    </tr>\n",
       "    <tr>\n",
       "      <th>6</th>\n",
       "      <td>event: critical:HostName_221.company.com the v...</td>\n",
       "      <td>24</td>\n",
       "    </tr>\n",
       "    <tr>\n",
       "      <th>7</th>\n",
       "      <td>ticket_no1550391- employment status - new non-...</td>\n",
       "      <td>0</td>\n",
       "    </tr>\n",
       "    <tr>\n",
       "      <th>8</th>\n",
       "      <td>unable to disable add ins on outlook unable to...</td>\n",
       "      <td>0</td>\n",
       "    </tr>\n",
       "    <tr>\n",
       "      <th>9</th>\n",
       "      <td>ticket update on inplant_874773 ticket update ...</td>\n",
       "      <td>0</td>\n",
       "    </tr>\n",
       "    <tr>\n",
       "      <th>10</th>\n",
       "      <td>engineering tool says not connected and unable...</td>\n",
       "      <td>0</td>\n",
       "    </tr>\n",
       "    <tr>\n",
       "      <th>11</th>\n",
       "      <td>hr_tool site not loading page correctly hr_too...</td>\n",
       "      <td>0</td>\n",
       "    </tr>\n",
       "    <tr>\n",
       "      <th>12</th>\n",
       "      <td>unable to login to hr_tool to sgxqsuojr xwbeso...</td>\n",
       "      <td>0</td>\n",
       "    </tr>\n",
       "    <tr>\n",
       "      <th>13</th>\n",
       "      <td>user wants to reset the password user wants to...</td>\n",
       "      <td>0</td>\n",
       "    </tr>\n",
       "    <tr>\n",
       "      <th>14</th>\n",
       "      <td>unable to open payslips  unable to open payslips</td>\n",
       "      <td>0</td>\n",
       "    </tr>\n",
       "    <tr>\n",
       "      <th>15</th>\n",
       "      <td>ticket update on inplant_874743 ticket update ...</td>\n",
       "      <td>0</td>\n",
       "    </tr>\n",
       "    <tr>\n",
       "      <th>16</th>\n",
       "      <td>unable to login to company vpn \\n\\nreceived fr...</td>\n",
       "      <td>0</td>\n",
       "    </tr>\n",
       "    <tr>\n",
       "      <th>17</th>\n",
       "      <td>when undocking pc , screen will not come back ...</td>\n",
       "      <td>14</td>\n",
       "    </tr>\n",
       "    <tr>\n",
       "      <th>18</th>\n",
       "      <td>erp SID_34 account locked erp SID_34 account l...</td>\n",
       "      <td>0</td>\n",
       "    </tr>\n",
       "    <tr>\n",
       "      <th>19</th>\n",
       "      <td>unable to sign into vpn unable to sign into vpn</td>\n",
       "      <td>0</td>\n",
       "    </tr>\n",
       "  </tbody>\n",
       "</table>\n",
       "</div>"
      ],
      "text/plain": [
       "                                              Summary  Group\n",
       "0   login issue -verified user details.(employee# ...      0\n",
       "1   outlook \\r\\n\\r\\nreceived from: hmjdrvpb.komuay...      0\n",
       "2   cant log in to vpn \\r\\n\\r\\nreceived from: eylq...      0\n",
       "3   unable to access hr_tool page unable to access...      0\n",
       "4                           skype error  skype error       0\n",
       "5   unable to log in to engineering tool and skype...      0\n",
       "6   event: critical:HostName_221.company.com the v...     24\n",
       "7   ticket_no1550391- employment status - new non-...      0\n",
       "8   unable to disable add ins on outlook unable to...      0\n",
       "9   ticket update on inplant_874773 ticket update ...      0\n",
       "10  engineering tool says not connected and unable...      0\n",
       "11  hr_tool site not loading page correctly hr_too...      0\n",
       "12  unable to login to hr_tool to sgxqsuojr xwbeso...      0\n",
       "13  user wants to reset the password user wants to...      0\n",
       "14  unable to open payslips  unable to open payslips       0\n",
       "15  ticket update on inplant_874743 ticket update ...      0\n",
       "16  unable to login to company vpn \\n\\nreceived fr...      0\n",
       "17  when undocking pc , screen will not come back ...     14\n",
       "18  erp SID_34 account locked erp SID_34 account l...      0\n",
       "19    unable to sign into vpn unable to sign into vpn      0"
      ]
     },
     "execution_count": 25,
     "metadata": {
      "tags": []
     },
     "output_type": "execute_result"
    }
   ],
   "source": [
    "le = preprocessing.LabelEncoder() \n",
    "df_v2['Group']= le.fit_transform(df_v2['Group']) # LabelEncode 'Groups'\n",
    "df_v2.head(20) "
   ]
  },
  {
   "cell_type": "markdown",
   "metadata": {
    "colab_type": "text",
    "id": "ae2wO8-LLqJc"
   },
   "source": [
    "## Text Cleaning"
   ]
  },
  {
   "cell_type": "code",
   "execution_count": 0,
   "metadata": {
    "colab": {},
    "colab_type": "code",
    "id": "CdWrhE4wcisB"
   },
   "outputs": [],
   "source": [
    "data = df_v2.Summary.values.tolist() # Convert to list"
   ]
  },
  {
   "cell_type": "code",
   "execution_count": 0,
   "metadata": {
    "colab": {},
    "colab_type": "code",
    "id": "rhNRmU5dMZK_"
   },
   "outputs": [],
   "source": [
    "temp = []\n",
    "for sentence in data:\n",
    "    sentence = re.sub(r\"[\\(][\\S\\s\\)\\(]+[\\)]|[\\<\\{][\\S\\s]+[\\}\\>]\",\" \", sentence)  # remove text in (),[],<> or {}\n",
    "    sentence = re.sub(r\"[\\S][h][t][t][p][\\S]+|[w][w][w][\\S]+|[\\S]+[@][\\S]+\",\" \", sentence)  # remove email addresses, web address and remove urls\n",
    "    sentence = re.sub(r\"[\\S]+[\\d]+[\\S]+\",\" \", sentence) # remove alphanumerics (dates, request id etc.)\n",
    "    sentence = re.sub(r\"[:]+\",\".\", sentence) # replace : with . \n",
    "    sentence = re.sub(r\"\\W(?<!['.])\",\" \", sentence)  # remove punctuations with negative lookbehind for ' &, \n",
    "    sentence = re.sub(r\"[\\d]+\",\" \", sentence)  # remove digits \n",
    "    sentence = re.sub(r\"[\\s]+\",\" \", sentence) # replace multiple spaces with single space\n",
    "    sentence = sentence.strip('\\n')\n",
    "    sentence = sentence.lower()\n",
    "    temp.append(sentence)\n",
    "data = temp "
   ]
  },
  {
   "cell_type": "code",
   "execution_count": 0,
   "metadata": {
    "colab": {
     "base_uri": "https://localhost:8080/",
     "height": 512
    },
    "colab_type": "code",
    "executionInfo": {
     "elapsed": 19504,
     "status": "ok",
     "timestamp": 1584221405383,
     "user": {
      "displayName": "Gaurav Walia",
      "photoUrl": "",
      "userId": "01700986432954323149"
     },
     "user_tz": -330
    },
    "id": "zrSGhLdL7eP2",
    "outputId": "13422c34-fc28-4f1e-e510-2f8360c07816"
   },
   "outputs": [
    {
     "name": "stdout",
     "output_type": "stream",
     "text": [
      "<wordcloud.wordcloud.WordCloud object at 0x7f811b367c18>\n"
     ]
    },
    {
     "data": {
      "image/png": "[encoded data removed]",
      "text/plain": [
       "<Figure size 1440x576 with 1 Axes>"
      ]
     },
     "metadata": {
      "tags": []
     },
     "output_type": "display_data"
    }
   ],
   "source": [
    "from wordcloud import WordCloud, STOPWORDS\n",
    "#import matplotlib.pyplot as plt\n",
    "\n",
    "stopwords = set(STOPWORDS)\n",
    "\n",
    "wordcloud = WordCloud(    background_color='white',\n",
    "                          stopwords=stopwords,\n",
    "                          max_words=200,\n",
    "                          max_font_size=40, \n",
    "                          random_state=42\n",
    "                         ).generate(str(data))\n",
    "\n",
    "print(wordcloud)\n",
    "fig = plt.figure(1,figsize = (20, 8))\n",
    "plt.imshow(wordcloud)\n",
    "plt.title('Ticket Summary',fontsize=30)\n",
    "plt.axis('off')\n",
    "plt.show()\n",
    "fig.savefig(\"wordcloud.png\", dpi=900)"
   ]
  },
  {
   "cell_type": "code",
   "execution_count": 0,
   "metadata": {
    "colab": {},
    "colab_type": "code",
    "id": "ZRLJdvIXP8Vh"
   },
   "outputs": [],
   "source": [
    "# word tokenisation & removal of stop words & gibberish word(by typos)\n",
    "data = [list(tokenize(sentences)) for sentences in data]\n",
    "\n",
    "# # remove duplicate words\n",
    "# temp = []\n",
    "# for doc in data:\n",
    "#     uniqueWords = []\n",
    "#     for eachword in doc:\n",
    "#         # check if unique & not a stop word & not a gibberish word\n",
    "#         if ((not eachword in uniqueWords) and (eachword not in stop_words) and (eachword in words.words())):\n",
    "#             uniqueWords.append(eachword);\n",
    "#     temp.append(uniqueWords)\n",
    "# temp\n",
    "# data = temp\n",
    "\n",
    "# # lemmetise words\n",
    "# wordnet_lemmatizer = WordNetLemmatizer()\n",
    "# temp = []\n",
    "# for eachrow in data:\n",
    "#     lemma_words = []\n",
    "#     for eachword in eachrow:\n",
    "#         eachword = wordnet_lemmatizer.lemmatize(eachword, pos = \"n\")\n",
    "#         eachword = wordnet_lemmatizer.lemmatize(eachword, pos = \"v\")\n",
    "#         eachword = wordnet_lemmatizer.lemmatize(eachword, pos = (\"a\"))\n",
    "#         lemma_words.append(eachword)\n",
    "#     temp.append(lemma_words)\n",
    "    \n",
    "# data = temp  \n",
    "\n",
    "# data = [(\" \".join(sentence))  for sentence in data]\n",
    "data"
   ]
  },
  {
   "cell_type": "code",
   "execution_count": 0,
   "metadata": {
    "colab": {},
    "colab_type": "code",
    "id": "xQLEo5bgzEIu"
   },
   "outputs": [],
   "source": []
  }
 ],
 "metadata": {
  "accelerator": "GPU",
  "colab": {
   "collapsed_sections": [],
   "name": "NLP_Automated_Ticket_Assignment_V3.ipynb",
   "provenance": [],
   "toc_visible": true
  },
  "kernelspec": {
   "display_name": "Python 3",
   "language": "python",
   "name": "python3"
  },
  "language_info": {
   "codemirror_mode": {
    "name": "ipython",
    "version": 3
   },
   "file_extension": ".py",
   "mimetype": "text/x-python",
   "name": "python",
   "nbconvert_exporter": "python",
   "pygments_lexer": "ipython3",
   "version": "3.7.4"
  }
 },
 "nbformat": 4,
 "nbformat_minor": 1
}
